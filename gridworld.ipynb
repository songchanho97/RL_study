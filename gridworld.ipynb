{
  "nbformat": 4,
  "nbformat_minor": 0,
  "metadata": {
    "colab": {
      "provenance": [],
      "authorship_tag": "ABX9TyNXqkFTNhsxhS9VXBUc+xyI",
      "include_colab_link": true
    },
    "kernelspec": {
      "name": "python3",
      "display_name": "Python 3"
    },
    "language_info": {
      "name": "python"
    }
  },
  "cells": [
    {
      "cell_type": "markdown",
      "metadata": {
        "id": "view-in-github",
        "colab_type": "text"
      },
      "source": [
        "<a href=\"https://colab.research.google.com/github/songchanho97/RL_study/blob/main/gridworld.ipynb\" target=\"_parent\"><img src=\"https://colab.research.google.com/assets/colab-badge.svg\" alt=\"Open In Colab\"/></a>"
      ]
    },
    {
      "cell_type": "markdown",
      "source": [
        "# GridWorld 클래스 구현\n",
        "- 에이전트는 상하좌우 네 방향으로 이동할 수 있다.\n",
        "- 벽에 부딪히면 보상은 0이다.\n",
        "- 사과는 보상 +1, 폭탄은 보상 -1, 그 외의 보상은 0이다."
      ],
      "metadata": {
        "id": "lsnn1pt8nZt2"
      }
    },
    {
      "cell_type": "code",
      "execution_count": 6,
      "metadata": {
        "id": "JQFU-Sz0nBEI"
      },
      "outputs": [],
      "source": [
        "import numpy as np\n",
        "\n",
        "class GridWorld:\n",
        "  def __init__(self):\n",
        "    self.action_space=[0,1,2,3]\n",
        "    self.action_meaning={\n",
        "        0:'UP',\n",
        "        1:'DOWN',\n",
        "        2:'LEFT',\n",
        "        3:'RIGHT'\n",
        "    }\n",
        "    self.reward_map=np.array(\n",
        "        [[0,0,0,1.0],\n",
        "         [0, None, 0, -1.0],\n",
        "         [0,0,0,0]]\n",
        "    )\n",
        "    self.goal_state=(0,3)\n",
        "    self.wall_state=(1,1)\n",
        "    self.start_state=(2,0)\n",
        "    self.agent_state=self.start_state\n",
        "\n",
        "    @property\n",
        "    def height(self):\n",
        "      return len(self.reward_map)\n",
        "\n",
        "    @property\n",
        "    def width(self):\n",
        "      return len(self.reward_map[0])\n",
        "\n",
        "    @property\n",
        "    def shape(self):\n",
        "      return self.reward_map.shape\n",
        "\n",
        "    def actions(self):\n",
        "      return self.action_space\n",
        "\n",
        "    def states(self):\n",
        "      for h in range(self.height):\n",
        "        for w in range(self.width):\n",
        "          yield(h, w)"
      ]
    },
    {
      "cell_type": "code",
      "source": [],
      "metadata": {
        "id": "4MHIKkEgnIKd"
      },
      "execution_count": null,
      "outputs": []
    }
  ]
}